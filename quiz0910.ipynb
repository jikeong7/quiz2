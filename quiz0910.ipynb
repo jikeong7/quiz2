{
 "cells": [
  {
   "cell_type": "code",
   "execution_count": 2,
   "metadata": {},
   "outputs": [],
   "source": [
    "# Q1\n",
    "def solution(arr):\n",
    "    answer = []\n",
    "    for a in arr:\n",
    "        if not answer:\n",
    "            answer.append(a)\n",
    "        else:\n",
    "            if answer[-1] == a:\n",
    "                pass\n",
    "            else:\n",
    "                answer.append(a)\n",
    "    return answer"
   ]
  },
  {
   "cell_type": "code",
   "execution_count": 3,
   "metadata": {},
   "outputs": [
    {
     "data": {
      "text/plain": [
       "[1, 2, 3, 4, 1]"
      ]
     },
     "execution_count": 3,
     "metadata": {},
     "output_type": "execute_result"
    }
   ],
   "source": [
    "arr = [1,1,2,3,4,4,1,1]\n",
    "solution(arr)"
   ]
  },
  {
   "cell_type": "code",
   "execution_count": 21,
   "metadata": {},
   "outputs": [],
   "source": [
    "# Q2\n",
    "def solution(seoul):\n",
    "    answer = ''\n",
    "    x = seoul.index(\"Kim\")\n",
    "    answer = f'김서방은 {x}에 있다'\n",
    "#f 의 역할 : 문자열 포맷팅  = print(\"test{},\").format(1)\n",
    "#f'{}'를 사용하면 python에서 사용하는 변수명을\n",
    "# {}안에 넣으면 그 반환값이 반환됨\n",
    "    return answer"
   ]
  },
  {
   "cell_type": "code",
   "execution_count": 22,
   "metadata": {},
   "outputs": [
    {
     "data": {
      "text/plain": [
       "'김서방은 1에 있다'"
      ]
     },
     "execution_count": 22,
     "metadata": {},
     "output_type": "execute_result"
    }
   ],
   "source": [
    "seoul = [\"Jane\",\"Kim\"]\n",
    "solution(seoul)"
   ]
  },
  {
   "cell_type": "code",
   "execution_count": 16,
   "metadata": {},
   "outputs": [],
   "source": [
    "# Q3\n",
    "def solution(num):\n",
    "    answer = ''\n",
    "    if num % 2 == 0:\n",
    "        answer = 'Even'\n",
    "    else :\n",
    "        answer = 'Odd'\n",
    "    return answer"
   ]
  },
  {
   "cell_type": "code",
   "execution_count": 17,
   "metadata": {},
   "outputs": [
    {
     "data": {
      "text/plain": [
       "'Odd'"
      ]
     },
     "execution_count": 17,
     "metadata": {},
     "output_type": "execute_result"
    }
   ],
   "source": [
    "num = 3\n",
    "solution(num)"
   ]
  },
  {
   "cell_type": "code",
   "execution_count": null,
   "metadata": {},
   "outputs": [],
   "source": []
  }
 ],
 "metadata": {
  "kernelspec": {
   "display_name": "Python 3",
   "language": "python",
   "name": "python3"
  },
  "language_info": {
   "codemirror_mode": {
    "name": "ipython",
    "version": 3
   },
   "file_extension": ".py",
   "mimetype": "text/x-python",
   "name": "python",
   "nbconvert_exporter": "python",
   "pygments_lexer": "ipython3",
   "version": "3.7.7"
  }
 },
 "nbformat": 4,
 "nbformat_minor": 4
}
